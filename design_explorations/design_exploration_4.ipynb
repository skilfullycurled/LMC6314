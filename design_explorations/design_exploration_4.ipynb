{
 "cells": [
  {
   "cell_type": "code",
   "execution_count": 78,
   "metadata": {
    "collapsed": false
   },
   "outputs": [],
   "source": [
    "import string, csv\n",
    "\n",
    "from nltk.util import ngrams\n",
    "from nltk.tokenize.moses import MosesTokenizer, MosesDetokenizer\n",
    "import requests"
   ]
  },
  {
   "cell_type": "markdown",
   "metadata": {},
   "source": [
    "### ENGLISH"
   ]
  },
  {
   "cell_type": "code",
   "execution_count": 163,
   "metadata": {
    "collapsed": false
   },
   "outputs": [],
   "source": [
    "url = 'http://www.gutenberg.org/cache/epub/2500/pg2500.txt'\n",
    "response = requests.get(url)"
   ]
  },
  {
   "cell_type": "code",
   "execution_count": 164,
   "metadata": {
    "collapsed": false
   },
   "outputs": [],
   "source": [
    "eng_txt = response.text"
   ]
  },
  {
   "cell_type": "code",
   "execution_count": 165,
   "metadata": {
    "collapsed": false
   },
   "outputs": [],
   "source": [
    "tokenizer = MosesTokenizer()\n",
    "detokenizer = MosesDetokenizer()\n",
    "\n",
    "tokens = tokenizer.tokenize(eng_txt)\n",
    "detokenized = [word.lower() for word in detokenizer.detokenize(tokens)]\n",
    "\n",
    "eng_tokens = [word.replace(',', '').encode('utf-8').strip() for word in detokenized if word not in string.punctuation]\n",
    "tokens = [word.encode('utf-8').strip() for word in tokens]"
   ]
  },
  {
   "cell_type": "code",
   "execution_count": 183,
   "metadata": {
    "collapsed": false
   },
   "outputs": [
    {
     "name": "stdout",
     "output_type": "stream",
     "text": [
      "49085\n",
      "48938\n"
     ]
    }
   ],
   "source": [
    "# # Remove intro\n",
    "print len(tokens)\n",
    "tokens = tokens[147:]\n",
    "print len(tokens)"
   ]
  },
  {
   "cell_type": "code",
   "execution_count": 196,
   "metadata": {
    "collapsed": false
   },
   "outputs": [
    {
     "name": "stdout",
     "output_type": "stream",
     "text": [
      "48938\n",
      "45711\n"
     ]
    }
   ],
   "source": [
    "# # Remove license\n",
    "print len(tokens)\n",
    "tokens = tokens[:45711]\n",
    "print len(tokens)"
   ]
  },
  {
   "cell_type": "code",
   "execution_count": 199,
   "metadata": {
    "collapsed": false
   },
   "outputs": [
    {
     "name": "stdout",
     "output_type": "stream",
     "text": [
      "40363\n",
      "40363\n"
     ]
    }
   ],
   "source": [
    "# REMOVE PUNCTUATION\n",
    "print len(eng_tokens)\n",
    "eng_tokens = [word.lower() for word in tokens if word not in string.punctuation]\n",
    "print len(eng_tokens)"
   ]
  },
  {
   "cell_type": "code",
   "execution_count": 234,
   "metadata": {
    "collapsed": true
   },
   "outputs": [],
   "source": [
    "nodes = set(eng_tokens)"
   ]
  },
  {
   "cell_type": "code",
   "execution_count": 235,
   "metadata": {
    "collapsed": false
   },
   "outputs": [
    {
     "data": {
      "text/plain": [
       "4194"
      ]
     },
     "execution_count": 235,
     "metadata": {},
     "output_type": "execute_result"
    }
   ],
   "source": [
    "len(nodes)"
   ]
  },
  {
   "cell_type": "code",
   "execution_count": 224,
   "metadata": {
    "collapsed": true
   },
   "outputs": [],
   "source": [
    "bigrams = list(ngrams(eng_tokens, 2))"
   ]
  },
  {
   "cell_type": "code",
   "execution_count": 228,
   "metadata": {
    "collapsed": false
   },
   "outputs": [
    {
     "data": {
      "text/plain": [
       "[('0', 'the', 'son'),\n",
       " ('1', 'son', 'of'),\n",
       " ('2', 'of', 'the'),\n",
       " ('3', 'the', 'brahman'),\n",
       " ('4', 'brahman', 'in'),\n",
       " ('5', 'in', 'the'),\n",
       " ('6', 'the', 'shade'),\n",
       " ('7', 'shade', 'of'),\n",
       " ('8', 'of', 'the'),\n",
       " ('9', 'the', 'house')]"
      ]
     },
     "execution_count": 228,
     "metadata": {},
     "output_type": "execute_result"
    }
   ],
   "source": [
    "edges = [(str(i), gram[0], gram[1]) for i, gram in zip(range(len(bigrams)), bigrams)]\n",
    "edges[:10]"
   ]
  },
  {
   "cell_type": "code",
   "execution_count": 229,
   "metadata": {
    "collapsed": false
   },
   "outputs": [],
   "source": [
    "with open(\"siddhartha-eng-edges.csv\", \"wb\") as f:\n",
    "    writer = csv.writer(f)\n",
    "    writer.writerows(edges)"
   ]
  },
  {
   "cell_type": "code",
   "execution_count": 237,
   "metadata": {
    "collapsed": false
   },
   "outputs": [
    {
     "data": {
      "text/plain": [
       "[(0, 'wound'),\n",
       " (1, 'ever.'),\n",
       " (2, 'overcome.'),\n",
       " (3, 'pardon'),\n",
       " (4, 'fig.'),\n",
       " (5, 'better.'),\n",
       " (6, 'tormenting'),\n",
       " (7, 'yellow'),\n",
       " (8, 'four'),\n",
       " (9, 'sleep'),\n",
       " (10, 'hanging'),\n",
       " (11, 'appetite'),\n",
       " (12, 'oldest'),\n",
       " (13, 'hate'),\n",
       " (14, 'consider')]"
      ]
     },
     "execution_count": 237,
     "metadata": {},
     "output_type": "execute_result"
    }
   ],
   "source": [
    "nodes = [(i, node) for i, node in zip(range(len(nodes)), list(nodes))]\n",
    "nodes[:15]"
   ]
  },
  {
   "cell_type": "code",
   "execution_count": 238,
   "metadata": {
    "collapsed": true
   },
   "outputs": [],
   "source": [
    "with open(\"siddhartha-eng-nodes.csv\", \"wb\") as f:\n",
    "    writer = csv.writer(f)\n",
    "    writer.writerows(nodes)"
   ]
  },
  {
   "cell_type": "markdown",
   "metadata": {},
   "source": [
    "### GERMAN"
   ]
  },
  {
   "cell_type": "code",
   "execution_count": 134,
   "metadata": {
    "collapsed": true
   },
   "outputs": [],
   "source": [
    "url = 'http://www.gutenberg.org/cache/epub/2499/pg2499.txt'\n",
    "response = requests.get(url)"
   ]
  },
  {
   "cell_type": "code",
   "execution_count": 135,
   "metadata": {
    "collapsed": true
   },
   "outputs": [],
   "source": [
    "txt = response.text"
   ]
  },
  {
   "cell_type": "code",
   "execution_count": 136,
   "metadata": {
    "collapsed": true
   },
   "outputs": [],
   "source": [
    "tokenizer = MosesTokenizer()\n",
    "detokenizer = MosesDetokenizer()\n",
    "\n",
    "tokens = tokenizer.tokenize(txt)\n",
    "detokenized = [word.lower() for word in detokenizer.detokenize(tokens)]\n",
    "\n",
    "tokens = [word.replace(',', '').encode('utf-8').strip() for word in detokenized if word not in string.punctuation]"
   ]
  },
  {
   "cell_type": "code",
   "execution_count": 159,
   "metadata": {
    "collapsed": false
   },
   "outputs": [],
   "source": [
    "# # Remove intro\n",
    "print len(tokens)\n",
    "tokens = tokens[117:]\n",
    "print len(tokens)"
   ]
  },
  {
   "cell_type": "code",
   "execution_count": 146,
   "metadata": {
    "collapsed": false
   },
   "outputs": [],
   "source": [
    "# # Remove license\n",
    "print len(tokens)\n",
    "tokens = tokens[:34485]\n",
    "print len(tokens)"
   ]
  },
  {
   "cell_type": "code",
   "execution_count": 160,
   "metadata": {
    "collapsed": true
   },
   "outputs": [],
   "source": [
    "bigrams = list(ngrams(tokens, 2))"
   ]
  },
  {
   "cell_type": "code",
   "execution_count": 162,
   "metadata": {
    "collapsed": true
   },
   "outputs": [],
   "source": [
    "with open(\"siddhartha-ger.csv\", \"wb\") as f:\n",
    "    writer = csv.writer(f)\n",
    "    writer.writerows(bigrams)"
   ]
  }
 ],
 "metadata": {
  "kernelspec": {
   "display_name": "Python 2",
   "language": "python",
   "name": "python2"
  },
  "language_info": {
   "codemirror_mode": {
    "name": "ipython",
    "version": 2
   },
   "file_extension": ".py",
   "mimetype": "text/x-python",
   "name": "python",
   "nbconvert_exporter": "python",
   "pygments_lexer": "ipython2",
   "version": "2.7.13"
  }
 },
 "nbformat": 4,
 "nbformat_minor": 2
}
