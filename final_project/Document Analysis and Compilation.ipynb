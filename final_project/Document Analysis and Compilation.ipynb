{
 "cells": [
  {
   "cell_type": "code",
   "execution_count": 1,
   "metadata": {
    "collapsed": true
   },
   "outputs": [],
   "source": [
    "# https://docs.opencv.org/3.4.0/d7/d4d/tutorial_py_thresholding.html\n",
    "# pyimagesearch.com/2016/10/03/bubble-sheet-multiple-choice-scanner-and-test-grader-using-omr-python-and-opencv/"
   ]
  },
  {
   "cell_type": "code",
   "execution_count": 81,
   "metadata": {
    "collapsed": false
   },
   "outputs": [],
   "source": [
    "%matplotlib inline\n",
    "\n",
    "from matplotlib import pyplot as plt\n",
    "from imutils.perspective import four_point_transform\n",
    "from imutils import contours\n",
    "import numpy as np\n",
    "import argparse\n",
    "import imutils\n",
    "import cv2\n",
    "from collections import OrderedDict\n",
    "import string\n",
    "import math\n",
    "import requests"
   ]
  },
  {
   "cell_type": "code",
   "execution_count": 1,
   "metadata": {
    "collapsed": false
   },
   "outputs": [],
   "source": [
    "# img_name = 'btb_mailing_c1.jpg'\n",
    "# img_loc = 'data/mailings/'\n",
    "\n",
    "# img = cv2.imread(img_loc + img_name)\n",
    "# gray = cv2.cvtColor(img, cv2.COLOR_BGR2GRAY)\n",
    "# plt.figure(figsize = (14,18))\n",
    "# plt.imshow(img)"
   ]
  },
  {
   "cell_type": "markdown",
   "metadata": {},
   "source": [
    "#### SEND TO MICROSOFT COGNITVE SERVICES"
   ]
  },
  {
   "cell_type": "code",
   "execution_count": 131,
   "metadata": {
    "collapsed": false
   },
   "outputs": [],
   "source": [
    "ms_svs_name = 'between_the_bars'\n",
    "api_key_one = 'f971baab862043cda79c5b3fa9e8fcd4'\n",
    "api_key_two = 'f4434c84617041048d881157d55e7ee5'\n",
    "vision_analyze_url = 'https://eastus.api.cognitive.microsoft.com/vision/v1.0/RecognizeText'\n",
    "\n",
    "\n",
    "img_path = 'data/mailings/zones/'\n",
    "img_name = 'blog_id'\n",
    "# print img_path + img_name + '.jpg'\n",
    "img_data = open(img_path + img_name + '.jpg', 'rb').read()\n",
    "\n",
    "user_agent = \"Mozilla/5.0 (X11; Linux x86_64) AppleWebKit/537.36 (KHTML, like Gecko) Chrome/48.0.2564.82 Safari/537.36\"\n",
    "headers    = {'Ocp-Apim-Subscription-Key': api_key_one, \n",
    "              \"Content-Type\": \"application/octet-stream\",\n",
    "              'USER-AGENT': user_agent}\n",
    "# params     = {'visualFeatures': 'Categories,Description,Color'}\n",
    "\n",
    "params   = {'handwriting' : True}\n",
    "\n",
    "response   = requests.post(vision_analyze_url, \n",
    "                           headers=headers, \n",
    "                           params=params, \n",
    "                           data=img_data)\n",
    "\n",
    "response.raise_for_status()\n",
    "\n",
    "# analysis      = response.json()\n",
    "# image_caption = analysis[\"description\"][\"captions\"][0][\"text\"].capitalize()\n",
    "# image_caption\n",
    "\n"
   ]
  },
  {
   "cell_type": "code",
   "execution_count": 132,
   "metadata": {
    "collapsed": false
   },
   "outputs": [
    {
     "data": {
      "text/plain": [
       "{u'recognitionResult': {u'lines': [{u'boundingBox': [170,\n",
       "     18,\n",
       "     240,\n",
       "     9,\n",
       "     245,\n",
       "     50,\n",
       "     175,\n",
       "     58],\n",
       "    u'text': u'8 3',\n",
       "    u'words': [{u'boundingBox': [161, 13, 191, 13, 191, 54, 161, 54],\n",
       "      u'text': u'8'},\n",
       "     {u'boundingBox': [215, 13, 245, 13, 245, 54, 215, 54], u'text': u'3'}]}]},\n",
       " u'status': u'Succeeded'}"
      ]
     },
     "execution_count": 132,
     "metadata": {},
     "output_type": "execute_result"
    }
   ],
   "source": [
    "operation_url = response.headers[\"Operation-Location\"]\n",
    "final_response = requests.get(operation_url, headers={'Ocp-Apim-Subscription-Key': api_key_one})\n",
    "final_response.json()\n",
    "\n",
    "# response.json()"
   ]
  },
  {
   "cell_type": "code",
   "execution_count": null,
   "metadata": {
    "collapsed": true
   },
   "outputs": [],
   "source": []
  }
 ],
 "metadata": {
  "kernelspec": {
   "display_name": "Python 2",
   "language": "python",
   "name": "python2"
  },
  "language_info": {
   "codemirror_mode": {
    "name": "ipython",
    "version": 2
   },
   "file_extension": ".py",
   "mimetype": "text/x-python",
   "name": "python",
   "nbconvert_exporter": "python",
   "pygments_lexer": "ipython2",
   "version": "2.7.13"
  }
 },
 "nbformat": 4,
 "nbformat_minor": 2
}
