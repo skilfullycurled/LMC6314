{
 "cells": [
  {
   "cell_type": "code",
   "execution_count": 78,
   "metadata": {
    "collapsed": false
   },
   "outputs": [],
   "source": [
    "import string, csv\n",
    "\n",
    "from nltk.util import ngrams\n",
    "from nltk.tokenize.moses import MosesTokenizer, MosesDetokenizer\n",
    "import requests"
   ]
  },
  {
   "cell_type": "markdown",
   "metadata": {},
   "source": [
    "### ENGLISH"
   ]
  },
  {
   "cell_type": "code",
   "execution_count": 163,
   "metadata": {
    "collapsed": false
   },
   "outputs": [],
   "source": [
    "url = 'http://www.gutenberg.org/cache/epub/2500/pg2500.txt'\n",
    "response = requests.get(url)"
   ]
  },
  {
   "cell_type": "code",
   "execution_count": 164,
   "metadata": {
    "collapsed": false
   },
   "outputs": [],
   "source": [
    "eng_txt = response.text"
   ]
  },
  {
   "cell_type": "code",
   "execution_count": 165,
   "metadata": {
    "collapsed": false
   },
   "outputs": [],
   "source": [
    "tokenizer = MosesTokenizer()\n",
    "detokenizer = MosesDetokenizer()\n",
    "\n",
    "tokens = tokenizer.tokenize(eng_txt)\n",
    "detokenized = [word.lower() for word in detokenizer.detokenize(tokens)]\n",
    "\n",
    "eng_tokens = [word.replace(',', '').encode('utf-8').strip() for word in detokenized if word not in string.punctuation]\n",
    "tokens = [word.encode('utf-8').strip() for word in tokens]"
   ]
  },
  {
   "cell_type": "code",
   "execution_count": 183,
   "metadata": {
    "collapsed": false
   },
   "outputs": [
    {
     "name": "stdout",
     "output_type": "stream",
     "text": [
      "49085\n",
      "48938\n"
     ]
    }
   ],
   "source": [
    "# # Remove intro\n",
    "print len(tokens)\n",
    "tokens = tokens[147:]\n",
    "print len(tokens)"
   ]
  },
  {
   "cell_type": "code",
   "execution_count": 196,
   "metadata": {
    "collapsed": false
   },
   "outputs": [
    {
     "name": "stdout",
     "output_type": "stream",
     "text": [
      "48938\n",
      "45711\n"
     ]
    }
   ],
   "source": [
    "# # Remove license\n",
    "print len(tokens)\n",
    "tokens = tokens[:45711]\n",
    "print len(tokens)"
   ]
  },
  {
   "cell_type": "code",
   "execution_count": 199,
   "metadata": {
    "collapsed": false
   },
   "outputs": [
    {
     "name": "stdout",
     "output_type": "stream",
     "text": [
      "40363\n",
      "40363\n"
     ]
    }
   ],
   "source": [
    "# REMOVE PUNCTUATION\n",
    "print len(eng_tokens)\n",
    "eng_tokens = [word.lower() for word in tokens if word not in string.punctuation]\n",
    "print len(eng_tokens)"
   ]
  },
  {
   "cell_type": "code",
   "execution_count": 203,
   "metadata": {
    "collapsed": true
   },
   "outputs": [],
   "source": [
    "bigrams = list(ngrams(eng_tokens, 2))"
   ]
  },
  {
   "cell_type": "code",
   "execution_count": 205,
   "metadata": {
    "collapsed": false
   },
   "outputs": [],
   "source": [
    "with open(\"siddhartha-eng.csv\", \"wb\") as f:\n",
    "    writer = csv.writer(f)\n",
    "    writer.writerows(bigrams)"
   ]
  },
  {
   "cell_type": "markdown",
   "metadata": {},
   "source": [
    "### GERMAN"
   ]
  },
  {
   "cell_type": "code",
   "execution_count": 134,
   "metadata": {
    "collapsed": true
   },
   "outputs": [],
   "source": [
    "url = 'http://www.gutenberg.org/cache/epub/2499/pg2499.txt'\n",
    "response = requests.get(url)"
   ]
  },
  {
   "cell_type": "code",
   "execution_count": 135,
   "metadata": {
    "collapsed": true
   },
   "outputs": [],
   "source": [
    "txt = response.text"
   ]
  },
  {
   "cell_type": "code",
   "execution_count": 136,
   "metadata": {
    "collapsed": true
   },
   "outputs": [],
   "source": [
    "tokenizer = MosesTokenizer()\n",
    "detokenizer = MosesDetokenizer()\n",
    "\n",
    "tokens = tokenizer.tokenize(txt)\n",
    "detokenized = [word.lower() for word in detokenizer.detokenize(tokens)]\n",
    "\n",
    "tokens = [word.replace(',', '').encode('utf-8').strip() for word in detokenized if word not in string.punctuation]"
   ]
  },
  {
   "cell_type": "code",
   "execution_count": 159,
   "metadata": {
    "collapsed": false
   },
   "outputs": [],
   "source": [
    "# # Remove intro\n",
    "print len(tokens)\n",
    "tokens = tokens[117:]\n",
    "print len(tokens)"
   ]
  },
  {
   "cell_type": "code",
   "execution_count": 146,
   "metadata": {
    "collapsed": false
   },
   "outputs": [],
   "source": [
    "# # Remove license\n",
    "print len(tokens)\n",
    "tokens = tokens[:34485]\n",
    "print len(tokens)"
   ]
  },
  {
   "cell_type": "code",
   "execution_count": 160,
   "metadata": {
    "collapsed": true
   },
   "outputs": [],
   "source": [
    "bigrams = list(ngrams(tokens, 2))"
   ]
  },
  {
   "cell_type": "code",
   "execution_count": 162,
   "metadata": {
    "collapsed": true
   },
   "outputs": [],
   "source": [
    "with open(\"siddhartha-ger.csv\", \"wb\") as f:\n",
    "    writer = csv.writer(f)\n",
    "    writer.writerows(bigrams)"
   ]
  }
 ],
 "metadata": {
  "kernelspec": {
   "display_name": "Python 2",
   "language": "python",
   "name": "python2"
  },
  "language_info": {
   "codemirror_mode": {
    "name": "ipython",
    "version": 2
   },
   "file_extension": ".py",
   "mimetype": "text/x-python",
   "name": "python",
   "nbconvert_exporter": "python",
   "pygments_lexer": "ipython2",
   "version": "2.7.13"
  }
 },
 "nbformat": 4,
 "nbformat_minor": 2
}
